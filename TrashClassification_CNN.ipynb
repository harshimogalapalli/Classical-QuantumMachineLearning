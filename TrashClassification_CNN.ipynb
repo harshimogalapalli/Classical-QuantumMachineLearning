{
  "nbformat": 4,
  "nbformat_minor": 0,
  "metadata": {
    "colab": {
      "name": "TrashClassification-CNN.ipynb",
      "provenance": []
    },
    "kernelspec": {
      "name": "python3",
      "display_name": "Python 3"
    }
  },
  "cells": [
    {
      "cell_type": "code",
      "metadata": {
        "id": "YouavEXZpY-y"
      },
      "source": [
        "import numpy as np # linear algebra\r\n",
        "import pandas as pd # data processing, CSV file I/O (e.g. pd.read_csv)\r\n",
        "import matplotlib.pyplot as plt\r\n",
        "from matplotlib import image as mp_image\r\n",
        "import seaborn as sns\r\n",
        "\r\n",
        "# Required magic to display matplotlib plots in notebooks\r\n",
        "%matplotlib inline\r\n",
        "\r\n",
        "from sklearn import metrics\r\n",
        "from sklearn.metrics import accuracy_score, confusion_matrix\r\n",
        "from sklearn.model_selection import train_test_split\r\n",
        "\r\n",
        "# Input data files are available in the \"../input/\" directory.\r\n",
        "# For example, running this (by clicking run or pressing Shift+Enter) will list all files under the input directory\r\n",
        "\r\n",
        "import os\r\n",
        "import shutil"
      ],
      "execution_count": 1,
      "outputs": []
    },
    {
      "cell_type": "code",
      "metadata": {
        "id": "92pMOfG8piGN"
      },
      "source": [
        "!unzip /content/drive/MyDrive/Datasets/waste-classification.zip"
      ],
      "execution_count": null,
      "outputs": []
    },
    {
      "cell_type": "code",
      "metadata": {
        "id": "i7VZeBE_pvTZ"
      },
      "source": [
        "from glob import glob\r\n",
        "O_1 = glob(\"/content/DATASET/TRAIN/O/*.jpg\")\r\n",
        "R_1 = glob('/content/DATASET/TRAIN/R/*.jpg')"
      ],
      "execution_count": 3,
      "outputs": []
    },
    {
      "cell_type": "code",
      "metadata": {
        "id": "YInuCv6nqA2f"
      },
      "source": [
        "O_1 = O_1[:800]\r\n",
        "R_1 = R_1[:800]"
      ],
      "execution_count": 4,
      "outputs": []
    },
    {
      "cell_type": "code",
      "metadata": {
        "id": "uGiZsVBeqEH7"
      },
      "source": [
        "!mkdir \"/content/train\"\r\n",
        "\r\n",
        "!mkdir \"/content/train/O\"\r\n",
        "files = ' '.join(O_1)\r\n",
        "!mv -t \"/content/train/O\" $files\r\n",
        "\r\n",
        "!mkdir \"/content/train/R\"\r\n",
        "files = ' '.join(R_1)\r\n",
        "!mv -t \"/content/train/R\" $files"
      ],
      "execution_count": 5,
      "outputs": []
    },
    {
      "cell_type": "code",
      "metadata": {
        "colab": {
          "base_uri": "https://localhost:8080/"
        },
        "id": "V5fZHD_xqLfA",
        "outputId": "b83a0969-7040-49a8-c54a-fbf4fbc8582e"
      },
      "source": [
        "training_folder_name = '/content/train'\r\n",
        "\r\n",
        "# All images are 128x128 pixels\r\n",
        "img_size = (128,128)\r\n",
        "\r\n",
        "# The folder contains a subfolder for each class of shape\r\n",
        "classes = sorted(os.listdir(training_folder_name))\r\n",
        "print(classes)"
      ],
      "execution_count": 6,
      "outputs": [
        {
          "output_type": "stream",
          "text": [
            "['O', 'R']\n"
          ],
          "name": "stdout"
        }
      ]
    },
    {
      "cell_type": "code",
      "metadata": {
        "colab": {
          "base_uri": "https://localhost:8080/"
        },
        "id": "MVNzBHkTq5R7",
        "outputId": "477fd670-619e-4216-c709-cd1606525f51"
      },
      "source": [
        "# Import PyTorch libraries\r\n",
        "import torch\r\n",
        "import torchvision\r\n",
        "import torchvision.transforms as transforms\r\n",
        "import torch.nn as nn\r\n",
        "import torch.optim as optim\r\n",
        "import torch.nn.functional as F\r\n",
        "\r\n",
        "print(\"Libraries imported - ready to use PyTorch\", torch.__version__)"
      ],
      "execution_count": 7,
      "outputs": [
        {
          "output_type": "stream",
          "text": [
            "Libraries imported - ready to use PyTorch 1.7.1+cu101\n"
          ],
          "name": "stdout"
        }
      ]
    },
    {
      "cell_type": "code",
      "metadata": {
        "id": "CN9hr2j0q7W9"
      },
      "source": [
        "from PIL import Image\r\n",
        "\r\n",
        "# function to resize image\r\n",
        "def resize_image(src_image, size=(128,128), bg_color=\"white\"): \r\n",
        "    from PIL import Image, ImageOps \r\n",
        "    \r\n",
        "    # resize the image so the longest dimension matches our target size\r\n",
        "    src_image.thumbnail(size, Image.ANTIALIAS)\r\n",
        "    \r\n",
        "    # Create a new square background image\r\n",
        "    new_image = Image.new(\"RGB\", size, bg_color)\r\n",
        "    \r\n",
        "    # Paste the resized image into the center of the square background\r\n",
        "    new_image.paste(src_image, (int((size[0] - src_image.size[0]) / 2), int((size[1] - src_image.size[1]) / 2)))\r\n",
        "  \r\n",
        "    # return the resized image\r\n",
        "    return new_image"
      ],
      "execution_count": 8,
      "outputs": []
    },
    {
      "cell_type": "code",
      "metadata": {
        "colab": {
          "base_uri": "https://localhost:8080/"
        },
        "id": "cl4TiAO0q-3X",
        "outputId": "0a67b7c7-376c-48ba-8cb2-380ade29aed1"
      },
      "source": [
        "training_folder_name = '/content/train'\r\n",
        "\r\n",
        "# New location for the resized images\r\n",
        "train_folder = '/content/train_resized'\r\n",
        "\r\n",
        "\r\n",
        "# Create resized copies of all of the source images\r\n",
        "size = (128,128)\r\n",
        "\r\n",
        "# Create the output folder if it doesn't already exist\r\n",
        "if os.path.exists(train_folder):\r\n",
        "    shutil.rmtree(train_folder)\r\n",
        "\r\n",
        "# Loop through each subfolder in the input folder\r\n",
        "print('Transforming images...')\r\n",
        "for root, folders, files in os.walk(training_folder_name):\r\n",
        "    for sub_folder in folders:\r\n",
        "        print('processing folder ' + sub_folder)\r\n",
        "        # Create a matching subfolder in the output dir\r\n",
        "        saveFolder = os.path.join(train_folder,sub_folder)\r\n",
        "        if not os.path.exists(saveFolder):\r\n",
        "            os.makedirs(saveFolder)\r\n",
        "        # Loop through the files in the subfolder\r\n",
        "        file_names = os.listdir(os.path.join(root,sub_folder))\r\n",
        "        for file_name in file_names:\r\n",
        "            # Open the file\r\n",
        "            file_path = os.path.join(root,sub_folder, file_name)\r\n",
        "            #print(\"reading \" + file_path)\r\n",
        "            image = Image.open(file_path)\r\n",
        "            # Create a resized version and save it\r\n",
        "            resized_image = resize_image(image, size)\r\n",
        "            saveAs = os.path.join(saveFolder, file_name)\r\n",
        "            #print(\"writing \" + saveAs)\r\n",
        "            resized_image.save(saveAs)\r\n",
        "\r\n",
        "print('Done.')"
      ],
      "execution_count": 9,
      "outputs": [
        {
          "output_type": "stream",
          "text": [
            "Transforming images...\n",
            "processing folder O\n",
            "processing folder R\n",
            "Done.\n"
          ],
          "name": "stdout"
        }
      ]
    },
    {
      "cell_type": "code",
      "metadata": {
        "colab": {
          "base_uri": "https://localhost:8080/"
        },
        "id": "v9mxPQivrXid",
        "outputId": "c15d2dc9-d2e2-4d43-80d8-2387d4df19ab"
      },
      "source": [
        "def load_dataset(data_path):\r\n",
        "    import torch\r\n",
        "    import torchvision\r\n",
        "    import torchvision.transforms as transforms\r\n",
        "    # Load all the images\r\n",
        "    transformation = transforms.Compose([\r\n",
        "        # Randomly augment the image data\r\n",
        "            # Random horizontal flip\r\n",
        "        transforms.RandomHorizontalFlip(0.5),\r\n",
        "            # Random vertical flip\r\n",
        "        transforms.RandomVerticalFlip(0.3),\r\n",
        "        # transform to tensors\r\n",
        "        transforms.ToTensor(),\r\n",
        "        # Normalize the pixel values (in R, G, and B channels)\r\n",
        "        transforms.Normalize(mean=[0.5, 0.5, 0.5], std=[0.5, 0.5, 0.5])\r\n",
        "    ])\r\n",
        "\r\n",
        "    # Load all of the images, transforming them\r\n",
        "    full_dataset = torchvision.datasets.ImageFolder(\r\n",
        "        root=data_path,\r\n",
        "        transform=transformation\r\n",
        "    )\r\n",
        "    \r\n",
        "    \r\n",
        "    # Split into training (70% and testing (30%) datasets)\r\n",
        "    train_size = int(0.75 * len(full_dataset))\r\n",
        "    test_size = len(full_dataset) - train_size\r\n",
        "    \r\n",
        "    # use torch.utils.data.random_split for training/test split\r\n",
        "    train_dataset, test_dataset = torch.utils.data.random_split(full_dataset, [train_size, test_size])\r\n",
        "    \r\n",
        "    # define a loader for the training data we can iterate through in 50-image batches\r\n",
        "    train_loader = torch.utils.data.DataLoader(\r\n",
        "        train_dataset,\r\n",
        "        batch_size=4,\r\n",
        "        num_workers=0,\r\n",
        "        shuffle=False\r\n",
        "    )\r\n",
        "    \r\n",
        "    # define a loader for the testing data we can iterate through in 50-image batches\r\n",
        "    test_loader = torch.utils.data.DataLoader(\r\n",
        "        test_dataset,\r\n",
        "        batch_size=4,\r\n",
        "        num_workers=0,\r\n",
        "        shuffle=False\r\n",
        "    )\r\n",
        "        \r\n",
        "    return train_loader, test_loader\r\n",
        "\r\n",
        "\r\n",
        "\r\n",
        "\r\n",
        "#####################################################################################################\r\n",
        "\r\n",
        "\r\n",
        "\r\n",
        "\r\n",
        "# Recall that we have resized the images and saved them into\r\n",
        "train_folder = '/content/train_resized'\r\n",
        "\r\n",
        "# Get the iterative dataloaders for test and training data\r\n",
        "train_loader, test_loader = load_dataset(train_folder)\r\n",
        "batch_size = train_loader.batch_size\r\n",
        "print(\"Data loaders ready to read\", train_folder)"
      ],
      "execution_count": 10,
      "outputs": [
        {
          "output_type": "stream",
          "text": [
            "Data loaders ready to read /content/train_resized\n"
          ],
          "name": "stdout"
        }
      ]
    },
    {
      "cell_type": "code",
      "metadata": {
        "colab": {
          "base_uri": "https://localhost:8080/"
        },
        "id": "es5_QfnMrwKx",
        "outputId": "b7db11aa-071f-461b-cb0d-ee2e332418bb"
      },
      "source": [
        "# Create a neural net class\r\n",
        "class Net(nn.Module):\r\n",
        "    \r\n",
        "    \r\n",
        "    # Defining the Constructor\r\n",
        "    def __init__(self, num_classes=3):\r\n",
        "        super(Net, self).__init__()\r\n",
        "        \r\n",
        "        # In the init function, we define each layer we will use in our model\r\n",
        "        \r\n",
        "        # Our images are RGB, so we have input channels = 3. \r\n",
        "        # We will apply 12 filters in the first convolutional layer\r\n",
        "        self.conv1 = nn.Conv2d(in_channels=3, out_channels=12, kernel_size=3, stride=1, padding=1)\r\n",
        "        \r\n",
        "        # A second convolutional layer takes 12 input channels, and generates 24 outputs\r\n",
        "        self.conv2 = nn.Conv2d(in_channels=12, out_channels=24, kernel_size=3, stride=1, padding=1)\r\n",
        "        \r\n",
        "        # We in the end apply max pooling with a kernel size of 2\r\n",
        "        self.pool = nn.MaxPool2d(kernel_size=2)\r\n",
        "        \r\n",
        "        # A drop layer deletes 20% of the features to help prevent overfitting\r\n",
        "        self.drop = nn.Dropout2d(p=0.2)\r\n",
        "        \r\n",
        "        # Our 128x128 image tensors will be pooled twice with a kernel size of 2. 128/2/2 is 32.\r\n",
        "        # This means that our feature tensors are now 32 x 32, and we've generated 24 of them\r\n",
        "        \r\n",
        "        # We need to flatten these in order to feed them to a fully-connected layer\r\n",
        "        self.fc = nn.Linear(in_features=32 * 32 * 24, out_features=num_classes)\r\n",
        "\r\n",
        "    def forward(self, x):\r\n",
        "        # In the forward function, pass the data through the layers we defined in the init function\r\n",
        "        \r\n",
        "        # Use a ReLU activation function after layer 1 (convolution 1 and pool)\r\n",
        "        x = F.relu(self.pool(self.conv1(x))) \r\n",
        "        \r\n",
        "        # Use a ReLU activation function after layer 2\r\n",
        "        x = F.relu(self.pool(self.conv2(x)))  \r\n",
        "        \r\n",
        "        # Select some features to drop to prevent overfitting (only drop during training)\r\n",
        "        x = F.dropout(self.drop(x), training=self.training)\r\n",
        "        \r\n",
        "        # Flatten\r\n",
        "        x = x.view(-1, 32 * 32 * 24)\r\n",
        "        # Feed to fully-connected layer to predict class\r\n",
        "        x = self.fc(x)\r\n",
        "        # Return class probabilities via a log_softmax function \r\n",
        "        return torch.log_softmax(x, dim=1)\r\n",
        "    \r\n",
        "device = torch.device(\"cuda:0\" if torch.cuda.is_available() else \"cpu\")\r\n",
        "\r\n",
        "# Create an instance of the model class and allocate it to the device\r\n",
        "model = Net(num_classes=len(classes)).to(device)\r\n",
        "\r\n",
        "print(model)"
      ],
      "execution_count": 17,
      "outputs": [
        {
          "output_type": "stream",
          "text": [
            "Net(\n",
            "  (conv1): Conv2d(3, 12, kernel_size=(3, 3), stride=(1, 1), padding=(1, 1))\n",
            "  (conv2): Conv2d(12, 24, kernel_size=(3, 3), stride=(1, 1), padding=(1, 1))\n",
            "  (pool): MaxPool2d(kernel_size=2, stride=2, padding=0, dilation=1, ceil_mode=False)\n",
            "  (drop): Dropout2d(p=0.2, inplace=False)\n",
            "  (fc): Linear(in_features=24576, out_features=2, bias=True)\n",
            ")\n"
          ],
          "name": "stdout"
        }
      ]
    },
    {
      "cell_type": "code",
      "metadata": {
        "id": "oQ_SRFCSr2cn"
      },
      "source": [
        "def train(model, device, train_loader, optimizer, epoch):\r\n",
        "    # Set the model to training mode\r\n",
        "    model.train()\r\n",
        "    train_loss = 0\r\n",
        "    print(\"Epoch:\", epoch)\r\n",
        "    # Process the images in batches\r\n",
        "    for batch_idx, (data, target) in enumerate(train_loader):\r\n",
        "        # Use the CPU or GPU as appropriate\r\n",
        "        # Recall that GPU is optimized for the operations we are dealing with\r\n",
        "        data, target = data.to(device), target.to(device)\r\n",
        "        \r\n",
        "        # Reset the optimizer\r\n",
        "        optimizer.zero_grad()\r\n",
        "        \r\n",
        "        # Push the data forward through the model layers\r\n",
        "        output = model(data)\r\n",
        "        \r\n",
        "        # Get the loss\r\n",
        "        loss = loss_criteria(output, target)\r\n",
        "\r\n",
        "        # Keep a running total\r\n",
        "        train_loss += loss.item()\r\n",
        "        \r\n",
        "        # Backpropagate\r\n",
        "        loss.backward()\r\n",
        "        optimizer.step()\r\n",
        "        \r\n",
        "        # Print metrics so we see some progress\r\n",
        "        #print('\\tTraining batch {} Loss: {:.6f}'.format(batch_idx + 1, loss.item()))\r\n",
        "            \r\n",
        "    # return average loss for the epoch\r\n",
        "    avg_loss = train_loss / (batch_idx+1)\r\n",
        "    print('Training set: Average loss: {:.6f}'.format(avg_loss))\r\n",
        "    return avg_loss"
      ],
      "execution_count": 18,
      "outputs": []
    },
    {
      "cell_type": "code",
      "metadata": {
        "id": "-LKb3-Ejr_kA"
      },
      "source": [
        "def test(model, device, test_loader):\r\n",
        "    # Switch the model to evaluation mode (so we don't backpropagate or drop)\r\n",
        "    model.eval()\r\n",
        "    test_loss = 0\r\n",
        "    correct = 0\r\n",
        "    with torch.no_grad():\r\n",
        "        batch_count = 0\r\n",
        "        for data, target in test_loader:\r\n",
        "            batch_count += 1\r\n",
        "            data, target = data.to(device), target.to(device)\r\n",
        "            \r\n",
        "            # Get the predicted classes for this batch\r\n",
        "            output = model(data)\r\n",
        "            \r\n",
        "            # Calculate the loss for this batch\r\n",
        "            test_loss += loss_criteria(output, target).item()\r\n",
        "            \r\n",
        "            # Calculate the accuracy for this batch\r\n",
        "            _, predicted = torch.max(output.data, 1)\r\n",
        "            correct += torch.sum(target==predicted).item()\r\n",
        "\r\n",
        "    # Calculate the average loss and total accuracy for this epoch\r\n",
        "    avg_loss = test_loss / batch_count\r\n",
        "    print('Validation set: Average loss: {:.6f}, Accuracy: {}/{} ({:.0f}%)\\n'.format(\r\n",
        "        avg_loss, correct, len(test_loader.dataset),\r\n",
        "        100. * correct / len(test_loader.dataset)))\r\n",
        "    \r\n",
        "    # return average loss for the epoch\r\n",
        "    return avg_loss"
      ],
      "execution_count": 19,
      "outputs": []
    },
    {
      "cell_type": "code",
      "metadata": {
        "colab": {
          "base_uri": "https://localhost:8080/"
        },
        "id": "XNjbc21bsEEC",
        "outputId": "f820e4b9-949a-48c0-a4ab-14c65bbe0b7f"
      },
      "source": [
        "# Use an \"Adam\" optimizer to adjust weights\r\n",
        "optimizer = optim.Adam(model.parameters(), lr=0.0007)\r\n",
        "\r\n",
        "# Specify the loss criteria\r\n",
        "loss_criteria = nn.CrossEntropyLoss()\r\n",
        "\r\n",
        "# Track metrics in these arrays\r\n",
        "epoch_nums = []\r\n",
        "training_loss = []\r\n",
        "validation_loss = []\r\n",
        "\r\n",
        "# Train over 10 epochs (We restrict to 10 for time issues)\r\n",
        "epochs = 30\r\n",
        "print('Training on', device)\r\n",
        "for epoch in range(1, epochs + 1):\r\n",
        "        train_loss = train(model, device, train_loader, optimizer, epoch)\r\n",
        "        test_loss = test(model, device, test_loader)\r\n",
        "        epoch_nums.append(epoch)\r\n",
        "        training_loss.append(train_loss)\r\n",
        "        validation_loss.append(test_loss)"
      ],
      "execution_count": 20,
      "outputs": [
        {
          "output_type": "stream",
          "text": [
            "Training on cpu\n",
            "Epoch: 1\n",
            "Training set: Average loss: 0.548402\n",
            "Validation set: Average loss: 0.443193, Accuracy: 321/400 (80%)\n",
            "\n",
            "Epoch: 2\n",
            "Training set: Average loss: 0.474244\n",
            "Validation set: Average loss: 0.499821, Accuracy: 306/400 (76%)\n",
            "\n",
            "Epoch: 3\n",
            "Training set: Average loss: 0.447295\n",
            "Validation set: Average loss: 0.435964, Accuracy: 322/400 (80%)\n",
            "\n",
            "Epoch: 4\n",
            "Training set: Average loss: 0.444349\n",
            "Validation set: Average loss: 0.435090, Accuracy: 329/400 (82%)\n",
            "\n",
            "Epoch: 5\n",
            "Training set: Average loss: 0.409170\n",
            "Validation set: Average loss: 0.450750, Accuracy: 321/400 (80%)\n",
            "\n",
            "Epoch: 6\n",
            "Training set: Average loss: 0.412647\n",
            "Validation set: Average loss: 0.416226, Accuracy: 331/400 (83%)\n",
            "\n",
            "Epoch: 7\n",
            "Training set: Average loss: 0.386003\n",
            "Validation set: Average loss: 0.412653, Accuracy: 327/400 (82%)\n",
            "\n",
            "Epoch: 8\n",
            "Training set: Average loss: 0.374743\n",
            "Validation set: Average loss: 0.411788, Accuracy: 326/400 (82%)\n",
            "\n",
            "Epoch: 9\n",
            "Training set: Average loss: 0.359791\n",
            "Validation set: Average loss: 0.442244, Accuracy: 326/400 (82%)\n",
            "\n",
            "Epoch: 10\n",
            "Training set: Average loss: 0.331258\n",
            "Validation set: Average loss: 0.447245, Accuracy: 325/400 (81%)\n",
            "\n",
            "Epoch: 11\n",
            "Training set: Average loss: 0.347972\n",
            "Validation set: Average loss: 0.455081, Accuracy: 326/400 (82%)\n",
            "\n",
            "Epoch: 12\n",
            "Training set: Average loss: 0.323655\n",
            "Validation set: Average loss: 0.438035, Accuracy: 325/400 (81%)\n",
            "\n",
            "Epoch: 13\n",
            "Training set: Average loss: 0.291807\n",
            "Validation set: Average loss: 0.437368, Accuracy: 324/400 (81%)\n",
            "\n",
            "Epoch: 14\n",
            "Training set: Average loss: 0.291370\n",
            "Validation set: Average loss: 0.428836, Accuracy: 324/400 (81%)\n",
            "\n",
            "Epoch: 15\n",
            "Training set: Average loss: 0.274631\n",
            "Validation set: Average loss: 0.414147, Accuracy: 329/400 (82%)\n",
            "\n",
            "Epoch: 16\n",
            "Training set: Average loss: 0.268351\n",
            "Validation set: Average loss: 0.457732, Accuracy: 327/400 (82%)\n",
            "\n",
            "Epoch: 17\n",
            "Training set: Average loss: 0.274573\n",
            "Validation set: Average loss: 0.484722, Accuracy: 325/400 (81%)\n",
            "\n",
            "Epoch: 18\n",
            "Training set: Average loss: 0.275461\n",
            "Validation set: Average loss: 0.471329, Accuracy: 325/400 (81%)\n",
            "\n",
            "Epoch: 19\n",
            "Training set: Average loss: 0.266807\n",
            "Validation set: Average loss: 0.420508, Accuracy: 331/400 (83%)\n",
            "\n",
            "Epoch: 20\n",
            "Training set: Average loss: 0.271877\n",
            "Validation set: Average loss: 0.423656, Accuracy: 328/400 (82%)\n",
            "\n",
            "Epoch: 21\n",
            "Training set: Average loss: 0.234538\n",
            "Validation set: Average loss: 0.466921, Accuracy: 326/400 (82%)\n",
            "\n",
            "Epoch: 22\n",
            "Training set: Average loss: 0.227417\n",
            "Validation set: Average loss: 0.467995, Accuracy: 333/400 (83%)\n",
            "\n",
            "Epoch: 23\n",
            "Training set: Average loss: 0.214914\n",
            "Validation set: Average loss: 0.460749, Accuracy: 336/400 (84%)\n",
            "\n",
            "Epoch: 24\n",
            "Training set: Average loss: 0.212474\n",
            "Validation set: Average loss: 0.469041, Accuracy: 330/400 (82%)\n",
            "\n",
            "Epoch: 25\n",
            "Training set: Average loss: 0.226699\n",
            "Validation set: Average loss: 0.473855, Accuracy: 341/400 (85%)\n",
            "\n",
            "Epoch: 26\n",
            "Training set: Average loss: 0.216400\n",
            "Validation set: Average loss: 0.447087, Accuracy: 323/400 (81%)\n",
            "\n",
            "Epoch: 27\n",
            "Training set: Average loss: 0.226734\n",
            "Validation set: Average loss: 0.426219, Accuracy: 330/400 (82%)\n",
            "\n",
            "Epoch: 28\n",
            "Training set: Average loss: 0.192500\n",
            "Validation set: Average loss: 0.425095, Accuracy: 326/400 (82%)\n",
            "\n",
            "Epoch: 29\n",
            "Training set: Average loss: 0.202142\n",
            "Validation set: Average loss: 0.479262, Accuracy: 334/400 (84%)\n",
            "\n",
            "Epoch: 30\n",
            "Training set: Average loss: 0.187614\n",
            "Validation set: Average loss: 0.488730, Accuracy: 330/400 (82%)\n",
            "\n"
          ],
          "name": "stdout"
        }
      ]
    },
    {
      "cell_type": "code",
      "metadata": {
        "colab": {
          "base_uri": "https://localhost:8080/",
          "height": 877
        },
        "id": "4OyxfBDvsLCc",
        "outputId": "7960a167-ea1d-48b6-bd8f-c9599a666545"
      },
      "source": [
        "plt.figure(figsize=(15,15))\r\n",
        "plt.plot(epoch_nums, training_loss)\r\n",
        "plt.plot(epoch_nums, validation_loss)\r\n",
        "plt.xlabel('epoch')\r\n",
        "plt.ylabel('loss')\r\n",
        "plt.legend(['training', 'validation'], loc='upper right')\r\n",
        "plt.show()"
      ],
      "execution_count": 21,
      "outputs": [
        {
          "output_type": "display_data",
          "data": {
            "image/png": "[encoded data removed]",
            "text/plain": [
              "<Figure size 1080x1080 with 1 Axes>"
            ]
          },
          "metadata": {
            "tags": [],
            "needs_background": "light"
          }
        }
      ]
    },
    {
      "cell_type": "code",
      "metadata": {
        "colab": {
          "base_uri": "https://localhost:8080/",
          "height": 468
        },
        "id": "lUnW6K_FvERO",
        "outputId": "e5de9d85-68f5-468e-cc48-b426e3c83606"
      },
      "source": [
        "# Defining Labels and Predictions\r\n",
        "truelabels = []\r\n",
        "predictions = []\r\n",
        "model.eval()\r\n",
        "print(\"Getting predictions from test set...\")\r\n",
        "for data, target in test_loader:\r\n",
        "    for label in target.data.numpy():\r\n",
        "        truelabels.append(label)\r\n",
        "    for prediction in model(data).data.numpy().argmax(1):\r\n",
        "        predictions.append(prediction) \r\n",
        "\r\n",
        "# Plot the confusion matrix\r\n",
        "cm = confusion_matrix(truelabels, predictions)\r\n",
        "tick_marks = np.arange(len(classes))\r\n",
        "\r\n",
        "df_cm = pd.DataFrame(cm, index = classes, columns = classes)\r\n",
        "plt.figure(figsize = (7,7))\r\n",
        "sns.heatmap(df_cm, annot=True, cmap=plt.cm.Blues, fmt='g')\r\n",
        "plt.xlabel(\"Predicted Shape\", fontsize = 20)\r\n",
        "plt.ylabel(\"True Shape\", fontsize = 20)\r\n",
        "plt.show()"
      ],
      "execution_count": 22,
      "outputs": [
        {
          "output_type": "stream",
          "text": [
            "Getting predictions from test set...\n"
          ],
          "name": "stdout"
        },
        {
          "output_type": "display_data",
          "data": {
            "image/png": "[encoded data removed]",
            "text/plain": [
              "<Figure size 504x504 with 2 Axes>"
            ]
          },
          "metadata": {
            "tags": [],
            "needs_background": "light"
          }
        }
      ]
    },
    {
      "cell_type": "code",
      "metadata": {
        "id": "BOMzECIavM0C"
      },
      "source": [
        "from sklearn import metrics\r\n",
        "def performance_matrix(true,pred):\r\n",
        "    precision = metrics.precision_score(true,pred,average='macro')\r\n",
        "    recall = metrics.recall_score(true,pred,average='macro')\r\n",
        "    accuracy = metrics.accuracy_score(true,pred)\r\n",
        "    f1_score = metrics.f1_score(true,pred,average='macro')\r\n",
        "    print('Confusion Matrix:\\n',metrics.confusion_matrix(true, pred))\r\n",
        "    print('ROC-AUC:\\n', metrics.roc_auc_score(true, pred))\r\n",
        "    print('Precision: {} Recall: {}, Accuracy: {}: ,f1_score: {}'.format(precision*100,recall*100,accuracy*100,f1_score*100))"
      ],
      "execution_count": 23,
      "outputs": []
    },
    {
      "cell_type": "code",
      "metadata": {
        "colab": {
          "base_uri": "https://localhost:8080/",
          "height": 69
        },
        "id": "FZQR11fMwhMy",
        "outputId": "3c13edba-fe28-43bf-a349-3fc5ff900369"
      },
      "source": [
        "metrics.classification_report(truelabels,predictions)"
      ],
      "execution_count": 24,
      "outputs": [
        {
          "output_type": "execute_result",
          "data": {
            "application/vnd.google.colaboratory.intrinsic+json": {
              "type": "string"
            },
            "text/plain": [
              "'              precision    recall  f1-score   support\\n\\n           0       0.86      0.76      0.81       204\\n           1       0.78      0.87      0.82       196\\n\\n    accuracy                           0.81       400\\n   macro avg       0.82      0.82      0.81       400\\nweighted avg       0.82      0.81      0.81       400\\n'"
            ]
          },
          "metadata": {
            "tags": []
          },
          "execution_count": 24
        }
      ]
    },
    {
      "cell_type": "code",
      "metadata": {
        "colab": {
          "base_uri": "https://localhost:8080/"
        },
        "id": "ZM6DpkTWwn9B",
        "outputId": "52be8deb-5f91-45d9-d633-de78d0cf5f65"
      },
      "source": [
        "performance_matrix(truelabels,predictions)"
      ],
      "execution_count": 25,
      "outputs": [
        {
          "output_type": "stream",
          "text": [
            "Confusion Matrix:\n",
            " [[156  48]\n",
            " [ 26 170]]\n",
            "ROC-AUC:\n",
            " 0.8160264105642256\n",
            "Precision: 81.84796854521625 Recall: 81.60264105642257, Accuracy: 81.5: ,f1_score: 81.47730970438786\n"
          ],
          "name": "stdout"
        }
      ]
    }
  ]
}